{
 "cells": [
  {
   "cell_type": "code",
   "execution_count": 1,
   "id": "3c72b560",
   "metadata": {},
   "outputs": [
    {
     "name": "stdout",
     "output_type": "stream",
     "text": [
      "[1 2 3 4 5]\n"
     ]
    }
   ],
   "source": [
    "import numpy as np\n",
    "arr = np.array([3, 1, 4, 2, 5])\n",
    "result = np.sort(arr)\n",
    "print(result) # Output: [1 2 3 4 5]"
   ]
  },
  {
   "cell_type": "code",
   "execution_count": 2,
   "id": "aa0f7bf3",
   "metadata": {},
   "outputs": [
    {
     "name": "stdout",
     "output_type": "stream",
     "text": [
      "[1 0 0]\n"
     ]
    }
   ],
   "source": [
    "import numpy as np\n",
    "arr = np.array([1, 5, 10])\n",
    "result = np.where(arr < 5, arr, 0)\n",
    "print(result)"
   ]
  },
  {
   "cell_type": "code",
   "execution_count": 4,
   "id": "135ca4d7",
   "metadata": {},
   "outputs": [
    {
     "name": "stdout",
     "output_type": "stream",
     "text": [
      "[[ 4  2 -1  4]\n",
      " [ 3 -3  0 -1]]\n"
     ]
    }
   ],
   "source": [
    "quarterly_difference = S_Y - S_X\n",
    "print(quarterly_difference)"
   ]
  },
  {
   "cell_type": "code",
   "execution_count": 5,
   "id": "cc9eb5c7",
   "metadata": {},
   "outputs": [
    {
     "name": "stdout",
     "output_type": "stream",
     "text": [
      "[[False False False False]\n",
      " [False False False False]]\n"
     ]
    }
   ],
   "source": [
    "less_than_2 = S_X < 2\n",
    "print(less_than_2)"
   ]
  },
  {
   "cell_type": "code",
   "execution_count": 6,
   "id": "4fd5d546",
   "metadata": {},
   "outputs": [
    {
     "name": "stdout",
     "output_type": "stream",
     "text": [
      "[[ 2  7 13 18]\n",
      " [ 4 12 18 23]]\n"
     ]
    }
   ],
   "source": [
    "X_cumsum = np.cumsum(S_X, axis = 1)\n",
    "print(X_cumsum)"
   ]
  },
  {
   "cell_type": "code",
   "execution_count": 13,
   "id": "db744577",
   "metadata": {},
   "outputs": [
    {
     "name": "stdout",
     "output_type": "stream",
     "text": [
      "[[ 2  7 13 18]\n",
      " [ 4 12 18 23]]\n",
      "[[False False  True  True]\n",
      " [False  True  True  True]]\n",
      "[[ 6 13 18 27]\n",
      " [ 7 12 18 22]]\n",
      "[[False  True  True  True]\n",
      " [False  True  True  True]]\n"
     ]
    }
   ],
   "source": [
    "X_cumsum = np.cumsum(S_X, axis = 1)\n",
    "print(X_cumsum)\n",
    "print( X_cumsum >= 8)\n",
    "Y_cumsum = np.cumsum(S_Y, axis = 1)\n",
    "print(Y_cumsum)\n",
    "print( Y_cumsum >= 8)"
   ]
  },
  {
   "cell_type": "code",
   "execution_count": 8,
   "id": "a454cc4b",
   "metadata": {},
   "outputs": [
    {
     "name": "stdout",
     "output_type": "stream",
     "text": [
      "[4.5  5.75]\n"
     ]
    }
   ],
   "source": [
    "yearly_mean_X = np.mean(S_X, axis=1)\n",
    "print(yearly_mean_X)"
   ]
  },
  {
   "cell_type": "code",
   "execution_count": 9,
   "id": "3a790b5d",
   "metadata": {},
   "outputs": [
    {
     "name": "stdout",
     "output_type": "stream",
     "text": [
      "[6.5 6.  5.5 6.5]\n"
     ]
    }
   ],
   "source": [
    "quarterly_mean_Y = np.mean(S_Y, axis=0)\n",
    "print(quarterly_mean_Y)"
   ]
  },
  {
   "cell_type": "code",
   "execution_count": 10,
   "id": "2c16c1ed",
   "metadata": {},
   "outputs": [
    {
     "name": "stdout",
     "output_type": "stream",
     "text": [
      "[1, 4, 9, 16, 25]\n"
     ]
    }
   ],
   "source": [
    "numbers = [1, 2, 3, 4, 5]\n",
    "# Squaring each number using map()\n",
    "squared_numbers = map(lambda x: x ** 2, numbers)\n",
    "print(list(squared_numbers))"
   ]
  },
  {
   "cell_type": "code",
   "execution_count": 11,
   "id": "ad15735c",
   "metadata": {},
   "outputs": [
    {
     "name": "stdout",
     "output_type": "stream",
     "text": [
      "[2, 4]\n"
     ]
    }
   ],
   "source": [
    "numbers = [1, 2, 3, 4, 5]\n",
    "# Filtering even numbers using filter()\n",
    "even_numbers = filter(lambda x: x % 2 == 0, numbers)\n",
    "print(list(even_numbers))"
   ]
  },
  {
   "cell_type": "code",
   "execution_count": 12,
   "id": "0d5f118b",
   "metadata": {},
   "outputs": [
    {
     "name": "stdout",
     "output_type": "stream",
     "text": [
      "15\n"
     ]
    }
   ],
   "source": [
    "from functools import reduce\n",
    "numbers = [1, 2, 3, 4, 5]\n",
    "# Summing all the numbers using reduce()\n",
    "sum_of_numbers = reduce(lambda x, y: x + y, numbers)\n",
    "print(sum_of_numbers) "
   ]
  },
  {
   "cell_type": "code",
   "execution_count": 1,
   "id": "5b39166a",
   "metadata": {},
   "outputs": [
    {
     "name": "stdout",
     "output_type": "stream",
     "text": [
      "25\n"
     ]
    }
   ],
   "source": [
    "# Squaring a number using a lambda function\n",
    "numbers = [1, 2, 3, 4, 5]\n",
    "square = lambda x: x ** 2\n",
    "print(square(5))"
   ]
  },
  {
   "cell_type": "code",
   "execution_count": null,
   "id": "1d91191d",
   "metadata": {},
   "outputs": [],
   "source": []
  }
 ],
 "metadata": {
  "kernelspec": {
   "display_name": "Python 3 (ipykernel)",
   "language": "python",
   "name": "python3"
  },
  "language_info": {
   "codemirror_mode": {
    "name": "ipython",
    "version": 3
   },
   "file_extension": ".py",
   "mimetype": "text/x-python",
   "name": "python",
   "nbconvert_exporter": "python",
   "pygments_lexer": "ipython3",
   "version": "3.11.3"
  }
 },
 "nbformat": 4,
 "nbformat_minor": 5
}
